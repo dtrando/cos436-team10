{
 "cells": [
  {
   "cell_type": "code",
   "execution_count": null,
   "metadata": {
    "colab": {
     "base_uri": "https://localhost:8080/"
    },
    "id": "7CIWoSnFwoyx",
    "outputId": "83f7789d-8b20-45cf-841a-a5b751eb4c69",
    "tags": []
   },
   "outputs": [],
   "source": [
    "pip install selenium"
   ]
  },
  {
   "cell_type": "code",
   "execution_count": 38,
   "metadata": {
    "id": "Y6JBY6RvwB7J",
    "tags": []
   },
   "outputs": [],
   "source": [
    "import re\n",
    "import csv\n",
    "from getpass import getpass\n",
    "from time import sleep\n",
    "from selenium import webdriver\n",
    "from selenium.webdriver.common.keys import Keys\n",
    "from selenium.common.exceptions import NoSuchElementException\n",
    "from selenium.webdriver.common.action_chains import ActionChains\n",
    "from selenium.webdriver import Chrome\n",
    "from selenium.webdriver.common.by import By"
   ]
  },
  {
   "cell_type": "code",
   "execution_count": 72,
   "metadata": {
    "id": "qN1IVF8hwRhX",
    "tags": []
   },
   "outputs": [],
   "source": [
    "def get_tweet_data(card):\n",
    "    \"\"\"Extract data from tweet card\"\"\"\n",
    "    \n",
    "    # Only views tweets with impression counts\n",
    "    imp_cnt = []\n",
    "    views = card.find_element(By.XPATH, './/a[@class=\"css-4rbku5 css-18t94o4 css-1dbjc4n r-1loqt21 r-1777fci r-bt1l66 r-1ny4l3l r-bztko3 r-lrvibr\" and @aria-label]').get_attribute(\"aria-label\")\n",
    "    imp_cnt = re.search(r'\\d+', views)\n",
    "    if not isinstance(imp_cnt, re.Match):\n",
    "        return\n",
    "    imp_cnt = imp_cnt.group()\n",
    "    \n",
    "    username = card.find_element(By.XPATH, './/span').text\n",
    "    try:\n",
    "        handle = card.find_element(By.XPATH, './/span[contains(text(), \"@\")]').text\n",
    "    except NoSuchElementException:\n",
    "        return\n",
    "\n",
    "    try:\n",
    "        postdate = card.find_element(By.XPATH, './/time').get_attribute('datetime')\n",
    "    except NoSuchElementException:\n",
    "        return\n",
    "\n",
    "    comment = card.find_element(By.XPATH, './/div[2]/div[2]/div[1]').text\n",
    "    responding = card.find_element(By.XPATH, './/div[2]/div[2]/div[2]').text\n",
    "    text = comment + responding\n",
    "    reply_cnt = card.find_element(By.XPATH, './/div[@data-testid=\"reply\"]').text or '0'\n",
    "    retweet_cnt = card.find_element(By.XPATH, './/div[@data-testid=\"retweet\"]').text or '0'\n",
    "    like_cnt = card.find_element(By.XPATH, './/div[@data-testid=\"like\"]').text or '0'\n",
    "\n",
    "    # Extract image URLs (if available)\n",
    "    image_urls = []\n",
    "    try:\n",
    "        images = card.find_elements(By.XPATH, './/img[@src]')\n",
    "        for img in images:\n",
    "            image_urls.append(img.get_attribute('src'))\n",
    "    except NoSuchElementException:\n",
    "        pass\n",
    "    image_urls_str = ', '.join(image_urls)\n",
    "    \n",
    "    # Calculate engagement score\n",
    "    engagement_sum = float(retweet_cnt or 0) + float(like_cnt or 0)\n",
    "    engagement_score = str(\"%.2f\" % ((float(engagement_sum or 0) / float(imp_cnt or 1)) * 100.0))\n",
    "    \n",
    "    tweet = (username, handle, postdate, text, reply_cnt, retweet_cnt, like_cnt, imp_cnt, engagement_score, image_urls_str)\n",
    "    return tweet"
   ]
  },
  {
   "cell_type": "code",
   "execution_count": 68,
   "metadata": {
    "id": "7ylfbAmawS-c",
    "tags": []
   },
   "outputs": [
    {
     "name": "stdin",
     "output_type": "stream",
     "text": [
      "search term:  #aiart\n"
     ]
    }
   ],
   "source": [
    "search_term = input('search term: ')\n",
    "\n",
    "# create instance of web driver\n",
    "driver = Chrome()\n",
    "\n",
    "# navigate to login screen\n",
    "driver.get('https://twitter.com/search')\n",
    "# driver.maximize_window()\n",
    "sleep(4)\n",
    "\n",
    "username = driver.find_element(By.XPATH, \"//input\")\n",
    "username.send_keys('VirtualWorld454')\n",
    "username.send_keys(Keys.RETURN)\n",
    "sleep(2)\n",
    "\n",
    "password = driver.find_element(By.XPATH, \"//input[@name='password']\")\n",
    "password.send_keys('HC1Project')\n",
    "password.send_keys(Keys.RETURN)\n",
    "sleep(3)\n",
    "\n",
    "# find search input and search for term\n",
    "search_input = driver.find_element(By.XPATH, '//input')\n",
    "search_input.send_keys(search_term)\n",
    "search_input.send_keys(Keys.RETURN)\n",
    "sleep(2)\n",
    "\n",
    "# navigate to historical 'latest' tab\n",
    "driver.find_element(By.LINK_TEXT, 'Latest').click()"
   ]
  },
  {
   "cell_type": "code",
   "execution_count": 70,
   "metadata": {
    "id": "aBgEjZbdwVoe",
    "tags": []
   },
   "outputs": [],
   "source": [
    "# get all tweets on the page\n",
    "data = []\n",
    "tweet_ids = set()\n",
    "last_position = driver.execute_script(\"return window.pageYOffset;\")\n",
    "scrolling = True\n",
    "\n",
    "while scrolling:\n",
    "    page_cards = driver.find_elements(By.XPATH, '//article[@data-testid=\"tweet\"]')\n",
    "    for card in page_cards[-15:]:\n",
    "        tweet = get_tweet_data(card)\n",
    "        if tweet:\n",
    "            tweet_id = ''.join(tweet)\n",
    "            if tweet_id not in tweet_ids:\n",
    "                tweet_ids.add(tweet_id)\n",
    "                data.append(tweet)\n",
    "\n",
    "    scroll_attempt = 0\n",
    "    while True:\n",
    "        driver.execute_script('window.scrollTo(0, document.body.scrollHeight);')\n",
    "        sleep(2)\n",
    "        curr_position = driver.execute_script(\"return window.pageYOffset;\")\n",
    "        if last_position == curr_position:\n",
    "            scroll_attempt += 1\n",
    "\n",
    "            if scroll_attempt >= 3: # number of scroll attempts\n",
    "                scrolling = False\n",
    "                break\n",
    "            else:\n",
    "                sleep(3) # seconds before attempting another scroll\n",
    "        else:\n",
    "            last_position = curr_position\n",
    "            break\n",
    "\n",
    "# close the web driver\n",
    "# driver.close()"
   ]
  },
  {
   "cell_type": "markdown",
   "metadata": {
    "id": "eR1A-YYlwby2"
   },
   "source": [
    "Saving tweet data"
   ]
  },
  {
   "cell_type": "code",
   "execution_count": 71,
   "metadata": {
    "id": "zSOGoDxxwa_z",
    "tags": []
   },
   "outputs": [],
   "source": [
    "with open('turkcell_tweets.csv', 'w', newline='', encoding='utf-8') as f:\n",
    "    header = ['UserName', 'Handle', 'Timestamp', 'Text', 'Comments', 'Likes', 'Retweets', 'Views', 'Engagement Score', 'ImageURLs']\n",
    "\n",
    "    writer = csv.writer(f)\n",
    "    writer.writerow(header)\n",
    "    writer.writerows(data)"
   ]
  },
  {
   "cell_type": "code",
   "execution_count": null,
   "metadata": {},
   "outputs": [],
   "source": []
  }
 ],
 "metadata": {
  "colab": {
   "provenance": []
  },
  "kernelspec": {
   "display_name": "Python 3 (ipykernel)",
   "language": "python",
   "name": "python3"
  },
  "language_info": {
   "codemirror_mode": {
    "name": "ipython",
    "version": 3
   },
   "file_extension": ".py",
   "mimetype": "text/x-python",
   "name": "python",
   "nbconvert_exporter": "python",
   "pygments_lexer": "ipython3",
   "version": "3.11.4"
  }
 },
 "nbformat": 4,
 "nbformat_minor": 4
}
